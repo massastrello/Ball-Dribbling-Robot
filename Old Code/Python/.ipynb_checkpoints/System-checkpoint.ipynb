{
 "cells": [
  {
   "cell_type": "code",
   "execution_count": 9,
   "metadata": {},
   "outputs": [],
   "source": [
    "gamma = 9.81\n",
    "c = 0.9"
   ]
  },
  {
   "cell_type": "code",
   "execution_count": 12,
   "metadata": {},
   "outputs": [],
   "source": [
    "# Define Flow map\n",
    "def f(xi,t):\n",
    "    x = xi[0]\n",
    "    v = xi[1]\n",
    "    dxdt = v\n",
    "    dvdt = -1.0*gamma\n",
    "    return [dxdt,dvdt]"
   ]
  },
  {
   "cell_type": "code",
   "execution_count": 2,
   "metadata": {},
   "outputs": [],
   "source": [
    "# Define Jump map\n",
    "def g(xi):\n",
    "    x = xi[0]\n",
    "    v = xi[1]\n",
    "    return [x,-c*v]"
   ]
  },
  {
   "cell_type": "code",
   "execution_count": 6,
   "metadata": {},
   "outputs": [],
   "source": [
    "# Define flow set\n",
    "def C(xi):\n",
    "    x = xi[0]\n",
    "    v = xi[1]\n",
    "    inside = 1\n",
    "    if x < 0:\n",
    "        inside = 0\n",
    "    return inside"
   ]
  },
  {
   "cell_type": "code",
   "execution_count": 26,
   "metadata": {},
   "outputs": [],
   "source": [
    "# Define jump set\n",
    "def D(xi):\n",
    "    x = xi[0]\n",
    "    v = xi[1]\n",
    "    jump = 0\n",
    "    if (x<=0) and (v<0):\n",
    "        jump = 1\n",
    "    return jump"
   ]
  },
  {
   "cell_type": "code",
   "execution_count": 33,
   "metadata": {},
   "outputs": [
    {
     "name": "stdout",
     "output_type": "stream",
     "text": [
      "Hybrid system succesfully defined\n"
     ]
    }
   ],
   "source": [
    "print('Hybrid system succesfully defined')"
   ]
  },
  {
   "cell_type": "code",
   "execution_count": null,
   "metadata": {},
   "outputs": [],
   "source": []
  },
  {
   "cell_type": "code",
   "execution_count": null,
   "metadata": {},
   "outputs": [],
   "source": []
  }
 ],
 "metadata": {
  "kernelspec": {
   "display_name": "Python 3",
   "language": "python",
   "name": "python3"
  },
  "language_info": {
   "codemirror_mode": {
    "name": "ipython",
    "version": 3
   },
   "file_extension": ".py",
   "mimetype": "text/x-python",
   "name": "python",
   "nbconvert_exporter": "python",
   "pygments_lexer": "ipython3",
   "version": "3.7.3"
  }
 },
 "nbformat": 4,
 "nbformat_minor": 2
}
